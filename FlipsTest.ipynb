{
 "cells": [
  {
   "cell_type": "code",
   "execution_count": 1,
   "metadata": {},
   "outputs": [
    {
     "data": {
      "text/html": [
       "<script type=\"text/javascript\">#!javascript\r\n",
       "if ((typeof(requirejs) !==  typeof(Function)) || (typeof(requirejs.config) !== typeof(Function))) { \r\n",
       "    let script = document.createElement(\"script\"); \r\n",
       "    script.setAttribute(\"src\", \"https://cdnjs.cloudflare.com/ajax/libs/require.js/2.3.6/require.min.js\"); \r\n",
       "    script.onload = function(){\r\n",
       "        loadDotnetInteractiveApi();\r\n",
       "    };\r\n",
       "    document.getElementsByTagName(\"head\")[0].appendChild(script); \r\n",
       "}\r\n",
       "else {\r\n",
       "    loadDotnetInteractiveApi();\r\n",
       "}\r\n",
       "\r\n",
       "function loadDotnetInteractiveApi(){\r\n",
       "    let apiRequire = requirejs.config({context:\"dotnet-interactive.18220.50859\",paths:{dotnetInteractive:\"http://localhost:50859/resources/dotnet-interactive\"}});\r\n",
       "    apiRequire(['dotnetInteractive'], \r\n",
       "    function(api) {       \r\n",
       "        api.createDotnetInteractiveClient(\"http://localhost:50859/\", window);\r\n",
       "    },\r\n",
       "    function(error){\r\n",
       "        console.log(error);\r\n",
       "    });\r\n",
       "}</script>"
      ]
     },
     "metadata": {},
     "output_type": "display_data"
    }
   ],
   "source": [
    "#r \"nuget: Flips\""
   ]
  },
  {
   "cell_type": "code",
   "execution_count": 2,
   "metadata": {},
   "outputs": [
    {
     "data": {
      "text/html": [
       "Installed package Flips version *"
      ]
     },
     "metadata": {},
     "output_type": "display_data"
    }
   ],
   "source": [
    "open System\n",
    "open Flips.Domain\n",
    "open Flips.Solve"
   ]
  },
  {
   "cell_type": "code",
   "execution_count": 3,
   "metadata": {},
   "outputs": [],
   "source": [
    "// Declare the parameters for our model\n",
    "let hamburgerProfit = 1.50\n",
    "let hotdogProfit = 1.20\n",
    "let hamburgerBuns = 300.0\n",
    "let hotdogBuns = 200.0\n",
    "let hamburgerWeight = 0.5\n",
    "let hotdogWeight = 0.4\n",
    "let maxTruckWeight = 200.0"
   ]
  },
  {
   "cell_type": "code",
   "execution_count": 4,
   "metadata": {},
   "outputs": [],
   "source": [
    "// Create Decision Variable with a Lower Bound of 0.0 and an Upper Bound of Infinity\n",
    "let numberOfHamburgers = Decision.createContinuous \"NumberOfHamburgers\" 0.0 infinity\n",
    "let numberOfHotdogs = Decision.createContinuous \"NumberOfHotDogs\" 0.0 infinity"
   ]
  },
  {
   "cell_type": "code",
   "execution_count": 5,
   "metadata": {},
   "outputs": [],
   "source": [
    "// Create the Linear Expression for the objective\n",
    "let objectiveExpression = hamburgerProfit * numberOfHamburgers + hotdogProfit * numberOfHotdogs\n",
    "\n",
    "// Create an Objective with the name \"MaximizeRevenue\" the goal of Maximizing\n",
    "// the Objective Expression\n",
    "let objective = Objective.create \"MaximizeRevenue\" Maximize objectiveExpression"
   ]
  },
  {
   "cell_type": "code",
   "execution_count": 6,
   "metadata": {},
   "outputs": [],
   "source": [
    "// Create a Constraint for the max number of Hamburger considering the number of buns\n",
    "let maxHamburger = Constraint.create \"MaxHamburger\" (numberOfHamburgers <== hamburgerBuns)\n",
    "// Create a Constraint for the max number of Hot Dogs considering the number of buns\n",
    "let maxHotDog = Constraint.create \"MaxHotDog\" (numberOfHotdogs <== hotdogBuns)\n",
    "// Create a Constraint for the Max combined weight of Hamburgers and Hotdogs\n",
    "let maxWeight = Constraint.create \"MaxWeight\" (numberOfHotdogs * hotdogWeight + numberOfHamburgers * hamburgerWeight <== maxTruckWeight)\n"
   ]
  },
  {
   "cell_type": "code",
   "execution_count": 7,
   "metadata": {},
   "outputs": [],
   "source": [
    "// Create a Model type and pipe it through the addition of the constraitns\n",
    "let model =\n",
    "    Model.create objective\n",
    "    |> Model.addConstraint maxHamburger\n",
    "    |> Model.addConstraint maxHotDog\n",
    "    |> Model.addConstraint maxWeight"
   ]
  },
  {
   "cell_type": "code",
   "execution_count": 8,
   "metadata": {},
   "outputs": [],
   "source": [
    "// Create a Settings type which tells the Solver which types of underlying solver to use,\n",
    "// the time alloted for solving, and whether to write an LP file to disk\n",
    "let settings = {\n",
    "    SolverType = SolverType.CBC\n",
    "    MaxDuration = 10_000L\n",
    "    WriteLPFile = None\n",
    "}"
   ]
  },
  {
   "cell_type": "code",
   "execution_count": 9,
   "metadata": {},
   "outputs": [
    {
     "ename": "Unhandled exception",
     "evalue": "System.TypeInitializationException: The type initializer for 'Google.OrTools.LinearSolver.operations_research_linear_solverPINVOKE' threw an exception.\r\n ---> System.TypeInitializationException: The type initializer for 'SWIGExceptionHelper' threw an exception.\r\n ---> System.DllNotFoundException: Unable to load DLL 'google-ortools-native' or one of its dependencies: The specified module could not be found. (0x8007007E)\r\n   at Google.OrTools.LinearSolver.operations_research_linear_solverPINVOKE.SWIGExceptionHelper.SWIGRegisterExceptionCallbacks_operations_research_linear_solver(ExceptionDelegate applicationDelegate, ExceptionDelegate arithmeticDelegate, ExceptionDelegate divideByZeroDelegate, ExceptionDelegate indexOutOfRangeDelegate, ExceptionDelegate invalidCastDelegate, ExceptionDelegate invalidOperationDelegate, ExceptionDelegate ioDelegate, ExceptionDelegate nullReferenceDelegate, ExceptionDelegate outOfMemoryDelegate, ExceptionDelegate overflowDelegate, ExceptionDelegate systemExceptionDelegate)\r\n   at Google.OrTools.LinearSolver.operations_research_linear_solverPINVOKE.SWIGExceptionHelper..cctor()\r\n   --- End of inner exception stack trace ---\r\n   at Google.OrTools.LinearSolver.operations_research_linear_solverPINVOKE.SWIGExceptionHelper..ctor()\r\n   at Google.OrTools.LinearSolver.operations_research_linear_solverPINVOKE..cctor()\r\n   --- End of inner exception stack trace ---\r\n   at Google.OrTools.LinearSolver.operations_research_linear_solverPINVOKE.new_Solver(String jarg1, Int32 jarg2)\r\n   at Google.OrTools.LinearSolver.Solver..ctor(String name, OptimizationProblemType problem_type)\r\n   at Google.OrTools.LinearSolver.Solver.CreateSolver(String name, String type)\r\n   at Flips.Solve.solve(SolverSettings settings, Model model)\r\n   at <StartupCode$FSI_0013>.$FSI_0013.main@()",
     "output_type": "error",
     "traceback": [
      "System.TypeInitializationException: The type initializer for 'Google.OrTools.LinearSolver.operations_research_linear_solverPINVOKE' threw an exception.\r\n ---> System.TypeInitializationException: The type initializer for 'SWIGExceptionHelper' threw an exception.\r\n ---> System.DllNotFoundException: Unable to load DLL 'google-ortools-native' or one of its dependencies: The specified module could not be found. (0x8007007E)\r\n   at Google.OrTools.LinearSolver.operations_research_linear_solverPINVOKE.SWIGExceptionHelper.SWIGRegisterExceptionCallbacks_operations_research_linear_solver(ExceptionDelegate applicationDelegate, ExceptionDelegate arithmeticDelegate, ExceptionDelegate divideByZeroDelegate, ExceptionDelegate indexOutOfRangeDelegate, ExceptionDelegate invalidCastDelegate, ExceptionDelegate invalidOperationDelegate, ExceptionDelegate ioDelegate, ExceptionDelegate nullReferenceDelegate, ExceptionDelegate outOfMemoryDelegate, ExceptionDelegate overflowDelegate, ExceptionDelegate systemExceptionDelegate)\r\n   at Google.OrTools.LinearSolver.operations_research_linear_solverPINVOKE.SWIGExceptionHelper..cctor()\r\n   --- End of inner exception stack trace ---\r\n   at Google.OrTools.LinearSolver.operations_research_linear_solverPINVOKE.SWIGExceptionHelper..ctor()\r\n   at Google.OrTools.LinearSolver.operations_research_linear_solverPINVOKE..cctor()\r\n   --- End of inner exception stack trace ---\r\n   at Google.OrTools.LinearSolver.operations_research_linear_solverPINVOKE.new_Solver(String jarg1, Int32 jarg2)\r\n   at Google.OrTools.LinearSolver.Solver..ctor(String name, OptimizationProblemType problem_type)\r\n   at Google.OrTools.LinearSolver.Solver.CreateSolver(String name, String type)\r\n   at Flips.Solve.solve(SolverSettings settings, Model model)\r\n   at <StartupCode$FSI_0013>.$FSI_0013.main@()",
      "   at Google.OrTools.LinearSolver.operations_research_linear_solverPINVOKE.new_Solver(String jarg1, Int32 jarg2)",
      "   at Google.OrTools.LinearSolver.Solver..ctor(String name, OptimizationProblemType problem_type)",
      "   at Google.OrTools.LinearSolver.Solver.CreateSolver(String name, String type)",
      "   at Flips.Solve.solve(SolverSettings settings, Model model)",
      "   at <StartupCode$FSI_0013>.$FSI_0013.main@()"
     ]
    }
   ],
   "source": [
    "// Call the `solve` function in the Solve module to evaluate the model\n",
    "let result = solve settings model"
   ]
  },
  {
   "cell_type": "code",
   "execution_count": null,
   "metadata": {},
   "outputs": [],
   "source": []
  }
 ],
 "metadata": {
  "kernelspec": {
   "display_name": ".NET (F#)",
   "language": "F#",
   "name": ".net-fsharp"
  },
  "language_info": {
   "file_extension": ".fs",
   "mimetype": "text/x-fsharp",
   "name": "C#",
   "pygments_lexer": "fsharp",
   "version": "4.5"
  }
 },
 "nbformat": 4,
 "nbformat_minor": 4
}
